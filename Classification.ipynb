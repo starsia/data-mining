{
 "cells": [
  {
   "cell_type": "markdown",
   "metadata": {},
   "source": [
    "## Classification\n",
    "The aim of this section is to apply supervised learning methods to create a classification model to determine which tweets are an actual emergency. With this model, depending on success, could used to predict a variety of other themes, with the appropriate labelling of course. The class label have already been pre-labellel under the target, and shows 1 if the tweet has been classified as an emergency, and 0 if not. The original [file can be found here](/tweets-raw.csv).\n",
    "\n",
    "It is important to preface that this dataset faces the classic class imbalance problem, given that emergency (1) constitutes only 18.5% of records before cleaning. Hence, there will need to be techniques applied to account for class imbalances. For instance, F1-score is more effective than Accuracy measures. We chose to oversample instead of undersample as it would mean disposing of 7k more records of non-emergencies(0), which would mean an even smaller training set after cleaning. \n",
    "\n",
    "Here is the order you will expect as you read the rest of this report:\n",
    "1. [Data pre-processing](Classification.ipynb#1-data-preprocessing1. Data Preprocessing). The tweets are seen as is. For example, besides the actual text, emojis, vulgarities, hashtags are present with varying characters. Location range from actual values such as United States of America to \"hell\" or \"jesus\". The steps below include processing of this data. \n",
    "2. Feature engineering. The keyword column, which contain the \"emergency\" word in the sentence, will be added to the feature list. The sentences will be broken down into words as features using a TD-IDF approach.\n",
    "3. Dataset splitting. We will need a training set, a validation set, and a test set. We have decided to employ the holdout method, which uses 2/3 of the data for model training. \n",
    "4. Model selection. We will attempt to use decision trees induction, linear regression, and baynesian classification. We may also further consider ensemble methods, random forest and boosting via AdaBoost. \n",
    "5. Training phase. Models will be applied on keyword and the fragmented sentences as features. \n",
    "6. Evaluation phase. Here, we will apply metrics such as the confusion matrix, the Receiver Operating Characteristics Curve and F1-score as previously mentioned. \n"
   ]
  },
  {
   "cell_type": "markdown",
   "metadata": {},
   "source": [
    "### 1. Data Preprocessing"
   ]
  },
  {
   "cell_type": "code",
   "execution_count": null,
   "metadata": {},
   "outputs": [],
   "source": [
    "x = 1"
   ]
  },
  {
   "cell_type": "code",
   "execution_count": null,
   "metadata": {},
   "outputs": [],
   "source": []
  },
  {
   "cell_type": "markdown",
   "metadata": {},
   "source": [
    "### 2. Feature Engineering"
   ]
  },
  {
   "cell_type": "code",
   "execution_count": null,
   "metadata": {},
   "outputs": [],
   "source": []
  },
  {
   "cell_type": "markdown",
   "metadata": {},
   "source": [
    "### 3. Dataset splitting"
   ]
  },
  {
   "cell_type": "code",
   "execution_count": null,
   "metadata": {},
   "outputs": [],
   "source": []
  },
  {
   "cell_type": "markdown",
   "metadata": {},
   "source": [
    "### 4. Model selection"
   ]
  },
  {
   "cell_type": "code",
   "execution_count": null,
   "metadata": {},
   "outputs": [],
   "source": []
  },
  {
   "cell_type": "markdown",
   "metadata": {},
   "source": [
    "### 5. Training phase"
   ]
  },
  {
   "cell_type": "code",
   "execution_count": null,
   "metadata": {},
   "outputs": [],
   "source": []
  },
  {
   "cell_type": "markdown",
   "metadata": {},
   "source": [
    "### 5. Evaluation phase"
   ]
  },
  {
   "cell_type": "code",
   "execution_count": null,
   "metadata": {},
   "outputs": [],
   "source": []
  }
 ],
 "metadata": {
  "language_info": {
   "name": "python"
  }
 },
 "nbformat": 4,
 "nbformat_minor": 2
}
